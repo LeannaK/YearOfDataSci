{
 "cells": [
  {
   "cell_type": "markdown",
   "metadata": {},
   "source": [
    "## Some Essential Python Skills To Get Us Started\n",
    "\n",
    "Before we move on, let's take some time to refresh our Python skills/terminology.\n",
    "\n",
    "Hopefully, you've installed Anaconda and/or Jupyter and can follow along."
   ]
  },
  {
   "cell_type": "markdown",
   "metadata": {},
   "source": [
    "## Python Essentials - Data Types and Operations\n",
    "\n",
    "There are many, but let's go over the basics"
   ]
  },
  {
   "cell_type": "markdown",
   "metadata": {},
   "source": [
    "### Numerical types\n",
    "Integers - Any whole number (no decimal)\n",
    "    \n",
    "    2\n",
    "    53\n",
    "    -34859302\n",
    "\n",
    "Floats - Any number with decimals\n",
    "\n",
    "    45.97\n",
    "    0.15468\n",
    "    -1000.0\n",
    "\n",
    "#### Basic math operations\n",
    "\n",
    "    >>> 2 + 53 # Addition\n",
    "    55\n",
    "    >>> 31 - 15 # Subtraction\n",
    "    16\n",
    "    >>> 5 * 5 # Multiplication\n",
    "    25\n",
    "    >>> 14 / 7 # Division (always returns floats)\n",
    "    2.0\n",
    "    >>> 4 ** 3 # Exponents\n",
    "    64\n",
    "    >>> 15 // 4 # Quotients (aka remainders)\n",
    "    3\n",
    "    \n"
   ]
  },
  {
   "cell_type": "code",
   "execution_count": null,
   "metadata": {},
   "outputs": [],
   "source": []
  },
  {
   "cell_type": "markdown",
   "metadata": {},
   "source": [
    "### Strings\n",
    "\n",
    "    >>> \"This is a string\"\n",
    "    'This is a string'\n",
    "    >>> 'So is this'\n",
    "    'So is this'\n",
    "    >>> '''And me too!!!'''\n",
    "    'And me too!!!'\n",
    "    >>> \"\"\"Me 3\"\"\"\n",
    "    'Me 3'\n",
    "    >>> \"I use \\\"escape\\\" slashes\"\n",
    "    'I use \"escape\" slashes'\n",
    "    \n",
    "#### Concatenation\n",
    "\n",
    "    >>> \"I can join \" + \"strings together\" + \" like this\"\n",
    "    'I can join strings together like this'\n",
    "    "
   ]
  },
  {
   "cell_type": "code",
   "execution_count": null,
   "metadata": {},
   "outputs": [],
   "source": []
  },
  {
   "cell_type": "markdown",
   "metadata": {},
   "source": [
    "### Variable assignment\n",
    "\n",
    "Use the '=' sign to create variables\n",
    "\n",
    "    >>> a = 'some text'\n",
    "    >>> a\n",
    "    'some text'\n",
    "    >>>\n",
    "    >>> x = 12.4\n",
    "    >>> y = 15\n",
    "    >>> x + y\n",
    "    27.4\n",
    "    >>>\n",
    "    >>> x = 're-assigning is ok'\n",
    "    >>> x\n",
    "    're-assigning is ok'"
   ]
  },
  {
   "cell_type": "markdown",
   "metadata": {},
   "source": [
    "### Lists\n",
    "\n",
    "Zero-indexed, ordered container of various other objects, each accesible via slicing.\n",
    "\n",
    "    >>> a_list = [1, 2, 3, \"text\"]\n",
    "    >>> a_list[0]\n",
    "    1\n",
    "    >>> a_list[0:3]\n",
    "    [1, 2, 3]\n",
    "    "
   ]
  },
  {
   "cell_type": "code",
   "execution_count": null,
   "metadata": {
    "collapsed": true
   },
   "outputs": [],
   "source": []
  },
  {
   "cell_type": "markdown",
   "metadata": {},
   "source": [
    "### Dictionaries\n",
    "\n",
    "Key, value pairs. Use the key to acccess the value.\n",
    "\n",
    "    >>> a_dict = {'key': 'value', 5000: 'another value'}\n",
    "    >>> a_dict['key']\n",
    "    'value'\n",
    "    >>> a_dict[5000]\n",
    "    'another value'\n",
    "    "
   ]
  },
  {
   "cell_type": "code",
   "execution_count": null,
   "metadata": {},
   "outputs": [],
   "source": []
  },
  {
   "cell_type": "markdown",
   "metadata": {},
   "source": [
    "### Booleans and Comparison\n",
    "\n",
    "Boolean means True or False\n",
    "\n",
    "    >>> True\n",
    "    True\n",
    "    >>> False\n",
    "    False\n",
    "    \n",
    "Comparing values gets a boolean response\n",
    "\n",
    "    >>> 1 < 3\n",
    "    True\n",
    "    >>> 1 > 3\n",
    "    False\n",
    "    >>> 'birds' == 'birds'\n",
    "    True\n",
    "    >>> 12 <= 12\n",
    "    True\n",
    "    >>> 'bacon' != 2\n",
    "    True\n",
    "    \n",
    "Boolean operators let you chain together comparisons\n",
    "\n",
    "    >>> 1 < 2 and 2 < 3\n",
    "    True\n",
    "    >>> 1 < 2 and 2 > 44\n",
    "    False\n",
    "    >>> 'bacon' == 'bacon' or 13 == 'bananas'\n",
    "    True"
   ]
  },
  {
   "cell_type": "markdown",
   "metadata": {},
   "source": [
    "### Functions\n",
    "\n",
    "Creating functions that can be used over and over again.\n",
    "\n",
    "    >>> def add(x, y):\n",
    "    ...     return x + y\n",
    "    ...\n",
    "    >>> add(3, 5)\n",
    "    8\n",
    "    >>> add('me', 'you')\n",
    "    'meyou'\n",
    "    \n",
    "Can create default parameters\n",
    "\n",
    "    >>> def func_with_defaults(param1 = 'default', param2 = 'args'):\n",
    "    ...     result = param1 + param2\n",
    "    ...     return result\n",
    "    ...\n",
    "    >>> func_with_defaults()\n",
    "    'defaultargs'\n",
    "    >>> func_with_defaults(param1 = 'not default')\n",
    "    'not defaultargs'\n",
    "    "
   ]
  },
  {
   "cell_type": "code",
   "execution_count": null,
   "metadata": {
    "collapsed": true
   },
   "outputs": [],
   "source": []
  },
  {
   "cell_type": "markdown",
   "metadata": {},
   "source": [
    "### Printing Output\n",
    "\n",
    "Builtin function to force values to the output\n",
    "\n",
    "    >>> x = \"some string\"\n",
    "    >>> print(x)\n",
    "    some string\n",
    "    "
   ]
  },
  {
   "cell_type": "code",
   "execution_count": null,
   "metadata": {
    "collapsed": true
   },
   "outputs": [],
   "source": []
  },
  {
   "cell_type": "markdown",
   "metadata": {},
   "source": [
    "### if - elif - else\n",
    "\n",
    "Test conditions to decide which code to execute. Must have an if statement, but elif and else are optional.\n",
    "\n",
    "    >>> x = 23\n",
    "    >>> y = 14\n",
    "    >>>\n",
    "    >>> if x == y:\n",
    "    ...     z = 'equal'\n",
    "    ... elif x > y:\n",
    "    ...     z = 'greater'\n",
    "    ... else:\n",
    "    ...     z = 'less'\n",
    "    ...\n",
    "    >>> z\n",
    "    'greater'\n",
    "    "
   ]
  },
  {
   "cell_type": "code",
   "execution_count": null,
   "metadata": {},
   "outputs": [],
   "source": []
  },
  {
   "cell_type": "markdown",
   "metadata": {},
   "source": [
    "### while loop\n",
    "\n",
    "Test a condition repeatedely, and execute code as long as it is True\n",
    "\n",
    "    >>> x = 0\n",
    "    >>>\n",
    "    >>> while x < 10:\n",
    "    ...     print(x)\n",
    "    ...     x = x + 1\n",
    "    ...\n",
    "    0\n",
    "    1\n",
    "    2\n",
    "    3\n",
    "    4\n",
    "    5\n",
    "    6\n",
    "    7\n",
    "    8\n",
    "    9"
   ]
  },
  {
   "cell_type": "code",
   "execution_count": null,
   "metadata": {},
   "outputs": [],
   "source": []
  },
  {
   "cell_type": "markdown",
   "metadata": {},
   "source": [
    "### for  loop\n",
    "\n",
    "For each element in a container, do something\n",
    "\n",
    "    >>> a_list = [2, 4, 6, 8]\n",
    "    >>>\n",
    "    >>> for element in a_list:\n",
    "    ...     squared = element ** 2\n",
    "    ...     print(squared)\n",
    "    ...\n",
    "    2\n",
    "    16\n",
    "    36\n",
    "    64"
   ]
  },
  {
   "cell_type": "code",
   "execution_count": null,
   "metadata": {},
   "outputs": [],
   "source": []
  },
  {
   "cell_type": "markdown",
   "metadata": {},
   "source": [
    "### Accesing Methods\n",
    "\n",
    "All things in Python are objects, with methods that can be used to perform common functions specific to their type.\n",
    "\n",
    "    >>> x = 123\n",
    "    >>> x.bit_length()\n",
    "    7\n",
    "    >>>\n",
    "    >>> s = 'some string'\n",
    "    >>> s.upper()\n",
    "    'SOME STRING'\n",
    "    >>>\n",
    "    >>> l = [4, 3, 2]\n",
    "    >>> l.sort()\n",
    "    >>> l\n",
    "    [2, 3, 4]"
   ]
  },
  {
   "cell_type": "code",
   "execution_count": null,
   "metadata": {},
   "outputs": [],
   "source": []
  },
  {
   "cell_type": "markdown",
   "metadata": {},
   "source": [
    "### Type Casting\n",
    "\n",
    "Changing an object's type\n",
    "\n",
    "    >>> i = 12\n",
    "    >>> f = float(i)\n",
    "    >>> f\n",
    "    12.0\n",
    "    >>>\n",
    "    >>> s = str(f)\n",
    "    >>> s\n",
    "    '12.0'\n",
    "    >>>\n",
    "    >>> l = list(s)\n",
    "    >>> l\n",
    "    ['1', '2', '.', '0']\n",
    "    "
   ]
  },
  {
   "cell_type": "code",
   "execution_count": null,
   "metadata": {
    "collapsed": true
   },
   "outputs": [],
   "source": []
  }
 ],
 "metadata": {
  "kernelspec": {
   "display_name": "Python 3",
   "language": "python",
   "name": "python3"
  },
  "language_info": {
   "codemirror_mode": {
    "name": "ipython",
    "version": 3
   },
   "file_extension": ".py",
   "mimetype": "text/x-python",
   "name": "python",
   "nbconvert_exporter": "python",
   "pygments_lexer": "ipython3",
   "version": "3.6.3"
  }
 },
 "nbformat": 4,
 "nbformat_minor": 2
}
