{
 "cells": [
  {
   "cell_type": "markdown",
   "metadata": {},
   "source": [
    "# Defining Data Science Using a Common Workflow\n",
    "\n",
    "We could easily spend the remainder of tonight's event defining Data Science and exploring the differences and similarities to a number of other fields, but instead we'll jump right in by discussing a common workflow - one we'll use repeatedly this year."
   ]
  },
  {
   "cell_type": "markdown",
   "metadata": {},
   "source": [
    "## Basic Workflow\n",
    "\n",
    "![](images/DataSciWorkflow.png)"
   ]
  },
  {
   "cell_type": "markdown",
   "metadata": {},
   "source": [
    "## 1. Definine an Objective\n",
    "\n",
    "What is the problem we're trying to solve? Clearly stating our end goal is critical to a succesful data science project. We should take the time now, to carefully decide what it is we want to learn, so that we can begin mapping out the process we will use to get there. "
   ]
  },
  {
   "cell_type": "markdown",
   "metadata": {},
   "source": [
    "## 2. Acquire, Explore, and Clean the Data\n",
    "\n",
    "Once we've clearly defined an objective, we can begin to look for Data sets that will help us achieve our goal. The difficulty and time spent on this step of the process can vary greatly depending on our objective. \n",
    "\n",
    "For example, if our goal was to find a relationship between national poverty and literacy rates, we could easily find the answers within U.S. Census data. On the flip side, say we wanted to predict a local company's growth next year...what data could we use? Where would we find it? How do we get it? Does it even exist?\n",
    "\n",
    "Once we've acquired the data, we'll need to ensure that it is in a format that fits our needs. We'll explore the starting state of the data and make the necessary adjustments using popular Python libraries, such as Pandas. It is vital that our data is consistent and specific to ensure accuracy and performance.\n",
    "\n",
    "During the exploration of our data, we should start to identify the analytic processes we'll need to use. Is this a classification or regression problem? Are we going to use this data to predict outcomes, or infer relationships?\n",
    "\n",
    "Again, having a clearly defined objective will save you lots of heartache, but be prepared to spend the majority of your project on this step!"
   ]
  },
  {
   "cell_type": "markdown",
   "metadata": {},
   "source": [
    "## 3. Store and Manage our Data Properly\n",
    "\n",
    "Generally, having a well-managed and thought out process for storing and retrieving your data will make your life easier; however, as the data sets grow, the importance of properly maintaining them will prove critical to success. Identify your needs and plan accordingly."
   ]
  },
  {
   "cell_type": "markdown",
   "metadata": {},
   "source": [
    "## 4. Analysis\n",
    "\n",
    "This is the fun part! We'll use what we've learned about our data so far to build models that will help answer our questions. We'll test various algorithms until we find our answers!\n",
    "\n",
    "Due to the vast possibilities here, we'll leave it at that for now."
   ]
  },
  {
   "cell_type": "markdown",
   "metadata": {},
   "source": [
    "## 5. Visualizing and Communicating our Findings\n",
    "\n",
    "Once we've performed our analysis, we'll use graphing and reporting tools to generate clear and concise pictures of our findings, so that our hard work can be understood by consumers."
   ]
  },
  {
   "cell_type": "code",
   "execution_count": null,
   "metadata": {
    "collapsed": true
   },
   "outputs": [],
   "source": []
  }
 ],
 "metadata": {
  "kernelspec": {
   "display_name": "Python 3",
   "language": "python",
   "name": "python3"
  },
  "language_info": {
   "codemirror_mode": {
    "name": "ipython",
    "version": 3
   },
   "file_extension": ".py",
   "mimetype": "text/x-python",
   "name": "python",
   "nbconvert_exporter": "python",
   "pygments_lexer": "ipython3",
   "version": "3.6.3"
  }
 },
 "nbformat": 4,
 "nbformat_minor": 2
}
