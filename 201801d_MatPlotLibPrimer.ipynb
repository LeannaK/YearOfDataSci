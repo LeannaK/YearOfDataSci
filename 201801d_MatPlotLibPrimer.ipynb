{
 "cells": [
  {
   "cell_type": "markdown",
   "metadata": {},
   "source": [
    "# Intro to Plotting with MatPlotLib\n",
    "\n",
    "Plotting data is an essential skill to have when embarking on a Data Science project. It allows us to visually represent our data to make important decisions about how we will perform analysis, as well as giving us the ability to clearly communicate any findings.\n",
    "\n",
    "While there are a number of Python libraries to perform plotting (and we will use many of them), MatPlotLib is one of the oldest and most commonly seen - so let's dive in."
   ]
  },
  {
   "cell_type": "code",
   "execution_count": null,
   "metadata": {},
   "outputs": [],
   "source": [
    "# We'll use numpy to generate data for demonstration purposes\n",
    "# And matplotlib's  pyplot module to create graphs\n",
    "import numpy as np\n",
    "import matplotlib.pyplot as plt\n",
    "%matplotlib inline"
   ]
  },
  {
   "cell_type": "markdown",
   "metadata": {},
   "source": [
    "### Line Graphs"
   ]
  },
  {
   "cell_type": "code",
   "execution_count": null,
   "metadata": {},
   "outputs": [],
   "source": [
    "# Let's generate an array's of point values\n",
    "x = np.linspace(-3.1459, 3.1459, 20)\n",
    "\n",
    "# And two more arrays with the sin and cosine of each point\n",
    "y = np.sin(x)\n",
    "z = np.cos(x)\n",
    "\n",
    "print(x)\n",
    "print(y)\n",
    "print(z)"
   ]
  },
  {
   "cell_type": "code",
   "execution_count": null,
   "metadata": {},
   "outputs": [],
   "source": [
    "# Plotting lines is easy, just pass your x-axis values, followed by your y-axis values to the plot method\n",
    "print(\"sin(x)\")\n",
    "plt.plot(x, y)\n",
    "plt.show()\n",
    "\n",
    "print(\"cos(x)\")\n",
    "plt.plot(x, z)\n",
    "plt.show()"
   ]
  },
  {
   "cell_type": "code",
   "execution_count": null,
   "metadata": {},
   "outputs": [],
   "source": [
    "# Or, on a single plot, using labels\n",
    "plt.plot(x, y, label=\"sin(x)\")\n",
    "plt.plot(x, z, label=\"cos(x)\")\n",
    "\n",
    "plt.legend(loc=\"upper left\")\n",
    "\n",
    "plt.show()"
   ]
  },
  {
   "cell_type": "markdown",
   "metadata": {},
   "source": [
    "### Scatter Plots"
   ]
  },
  {
   "cell_type": "code",
   "execution_count": null,
   "metadata": {},
   "outputs": [],
   "source": [
    "# Let's generate 100 random x values and 100 random y values\n",
    "x = np.random.random(100)\n",
    "y = np.random.random(100)\n",
    "\n",
    "print(x[:10])\n",
    "print(y[:10])"
   ]
  },
  {
   "cell_type": "code",
   "execution_count": null,
   "metadata": {},
   "outputs": [],
   "source": [
    "# Just like before, but this time use the scatter method\n",
    "plt.scatter(x, y)\n",
    "\n",
    "# Lets add labels too\n",
    "plt.xlabel(\"x\")\n",
    "plt.ylabel(\"y\")\n",
    "\n",
    "# And a title\n",
    "plt.title(\"Scatter Plot\")\n",
    "\n",
    "plt.show()"
   ]
  },
  {
   "cell_type": "markdown",
   "metadata": {},
   "source": [
    "### Basic Linear Regression Example"
   ]
  },
  {
   "cell_type": "code",
   "execution_count": null,
   "metadata": {},
   "outputs": [],
   "source": [
    "# We have a text file that shows the brain weight v. body weight for a number of mammals\n",
    "data_fp = 'data/brain2body.txt'\n",
    "\n",
    "# Use the np.loadtxt method to unpack the columns into arrays\n",
    "x, y = np.loadtxt(data_fp, delimiter=',', unpack=True)\n",
    "print(x[:10])\n",
    "print(y[:10])"
   ]
  },
  {
   "cell_type": "code",
   "execution_count": null,
   "metadata": {},
   "outputs": [],
   "source": [
    "# Let's use polyfit to calculate a \"best-fit\" line of regression\n",
    "slope, intercept = np.polyfit(x, y, 1)\n",
    "reg_line = [slope*x_point + intercept for x_point in x]\n",
    "\n",
    "# Scatter our weight values and add some labels\n",
    "plt.scatter(x, y)\n",
    "plt.xlabel('Brain Weight')\n",
    "plt.ylabel('Body Weight')\n",
    "\n",
    "# Add our regression line\n",
    "plt.plot(x, reg_line, 'g', label='Line of Reg.')\n",
    "\n",
    "plt.title('Mammals\\' Brain to Body Weight')\n",
    "plt.legend(loc='lower right')\n",
    "plt.show()"
   ]
  },
  {
   "cell_type": "markdown",
   "metadata": {
    "collapsed": true
   },
   "source": [
    "### Time Series"
   ]
  },
  {
   "cell_type": "code",
   "execution_count": null,
   "metadata": {},
   "outputs": [],
   "source": [
    "# We have a CSV file showing median listing prices for homes in Richmond County\n",
    "# Let's import a couple new modules to help with time series data\n",
    "from matplotlib.mlab import csv2rec\n",
    "from matplotlib.ticker import Formatter\n",
    "\n",
    "# csv2rec is awesome!\n",
    "records = csv2rec('data/richmond_median_list_prices.csv')\n",
    "records[:3]"
   ]
  },
  {
   "cell_type": "code",
   "execution_count": null,
   "metadata": {},
   "outputs": [],
   "source": [
    "# Since we're dealing with timestamps, we need to specify a formatter object which\n",
    "# will inform plt how to diplay the ticks on our chart.\n",
    "class OurFormatter(Formatter):\n",
    "    \n",
    "    def __init__(self, dates, fmt='%Y-%m-%d'):\n",
    "        self.dates = dates\n",
    "        self.fmt = fmt\n",
    "        \n",
    "    def __call__(self, x, pos=0):\n",
    "        ind = int(np.round(x))\n",
    "        if ind >= len(self.dates) or ind < 0:\n",
    "            return ''\n",
    "        return self.dates[ind].strftime(self.fmt)"
   ]
  },
  {
   "cell_type": "code",
   "execution_count": null,
   "metadata": {},
   "outputs": [],
   "source": [
    "# Let's create an instance of OurFormatter\n",
    "formatter = OurFormatter(records.date)\n",
    "\n",
    "# And instead of using plt directly, let's use the subplots method to return a Figure object and an AxesSubplot object\n",
    "# using the figsize argument to make sure out graph is larger\n",
    "fig, ax = plt.subplots(figsize=(10,10))\n",
    "\n",
    "# We'll set the x-axis of ax to use the formatter\n",
    "ax.xaxis.set_major_formatter(formatter)\n",
    "\n",
    "# And start plotting our data\n",
    "ax.plot(np.arange(len(records)), records.value2b, label='2 Bedrooms')\n",
    "ax.plot(np.arange(len(records)), records.value3b, label='3 Bedrooms')\n",
    "ax.plot(np.arange(len(records)), records.value4b, label='4 Bedrooms')\n",
    "ax.plot(np.arange(len(records)), records.value5b, label='5 Bedrooms')\n",
    "\n",
    "# Add a legend\n",
    "ax.legend()\n",
    "\n",
    "# Now, let's call the autofmt_xdate() method on our figure, and show the plot\n",
    "fig.autofmt_xdate()\n",
    "\n",
    "plt.show()"
   ]
  },
  {
   "cell_type": "code",
   "execution_count": null,
   "metadata": {},
   "outputs": [],
   "source": []
  }
 ],
 "metadata": {
  "kernelspec": {
   "display_name": "Python 3",
   "language": "python",
   "name": "python3"
  },
  "language_info": {
   "codemirror_mode": {
    "name": "ipython",
    "version": 3
   },
   "file_extension": ".py",
   "mimetype": "text/x-python",
   "name": "python",
   "nbconvert_exporter": "python",
   "pygments_lexer": "ipython3",
   "version": "3.6.3"
  }
 },
 "nbformat": 4,
 "nbformat_minor": 2
}
