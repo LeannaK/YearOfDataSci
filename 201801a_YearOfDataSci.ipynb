{
 "cells": [
  {
   "cell_type": "markdown",
   "metadata": {},
   "source": [
    "# PyAugusta's Year of Data Science - 2018\n",
    "\n",
    "Welcome to PyAugusta's Year of Data Science, where we will spend the next 12+- months learning how to use Python to extract meaningful insights from large data sets!\n",
    "\n",
    "Throughout the year, we will primarily use the Anaconda Platform and suite of tools to perform our analysis. If you don't have Anaconda installed, head over to https://www.anaconda.com/download to get the latest distribution for your system. While we will only be using some of the features of Anaconda (mostly Jupyter), it is a very robust platform aimed specifically at providing a one-stop shop for planning, executing, and sharing your data science adventures, which we hope you will explore fully.\n",
    "\n",
    "If you don't want to install Anaconda, and would prefer to use your own Python distribution, that's OK too. You can install Jupyter using pip, and should be able to follow along for the most part.\n",
    "\n",
    "If you're brand new to Python, don't worry - we'll get you spun up the best we can. We do recommend that our 'noobies' take some time between events to explore the language and it's robust features. YouTube is a great (and free) way to learn the language quickly.\n",
    "\n",
    "All of the data and notebooks used throughout this series will be made available on GitHub so that you can follow along.\n",
    "\n",
    "Once everyone has their environments set up, we'll move on."
   ]
  },
  {
   "cell_type": "code",
   "execution_count": null,
   "metadata": {
    "collapsed": true
   },
   "outputs": [],
   "source": []
  }
 ],
 "metadata": {
  "kernelspec": {
   "display_name": "Python 3",
   "language": "python",
   "name": "python3"
  },
  "language_info": {
   "codemirror_mode": {
    "name": "ipython",
    "version": 3
   },
   "file_extension": ".py",
   "mimetype": "text/x-python",
   "name": "python",
   "nbconvert_exporter": "python",
   "pygments_lexer": "ipython3",
   "version": "3.6.3"
  }
 },
 "nbformat": 4,
 "nbformat_minor": 2
}
